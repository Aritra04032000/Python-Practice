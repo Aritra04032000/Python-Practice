{
 "cells": [
  {
   "cell_type": "code",
   "execution_count": 1,
   "id": "ea7bc0ab",
   "metadata": {},
   "outputs": [],
   "source": [
    "string1=\"    Filet Mignon\"\n",
    "string2=\"Brisket    \"\n",
    "string3=\"  Cheeseburger   \""
   ]
  },
  {
   "cell_type": "code",
   "execution_count": 2,
   "id": "08c76813",
   "metadata": {},
   "outputs": [],
   "source": [
    "x=string1.replace(\" \",\"\")\n",
    "y=string2.replace(\" \",\"\")\n",
    "z=string3.replace(\" \",\"\")"
   ]
  },
  {
   "cell_type": "code",
   "execution_count": 3,
   "id": "849d5a57",
   "metadata": {},
   "outputs": [
    {
     "name": "stdout",
     "output_type": "stream",
     "text": [
      "FiletMignon\n",
      "Brisket\n",
      "Cheeseburger\n"
     ]
    }
   ],
   "source": [
    "print(x)\n",
    "print(y)\n",
    "print(z)"
   ]
  },
  {
   "cell_type": "code",
   "execution_count": 4,
   "id": "f3cde200",
   "metadata": {},
   "outputs": [
    {
     "name": "stdout",
     "output_type": "stream",
     "text": [
      "Enter any string value :Vande Mataram\n",
      "VANDE MATARAM\n"
     ]
    }
   ],
   "source": [
    "input_string=input(\"Enter any string value :\")\n",
    "print(input_string.upper())"
   ]
  },
  {
   "cell_type": "code",
   "execution_count": 5,
   "id": "9e21a948",
   "metadata": {},
   "outputs": [
    {
     "name": "stdout",
     "output_type": "stream",
     "text": [
      "Enter any String value :Krishna is my best friend.\n",
      "Total nmber of characters in a string :26\n"
     ]
    }
   ],
   "source": [
    "input_value=input(\"Enter any String value :\")\n",
    "count=0;\n",
    "for i in range(0,len(input_value)):\n",
    "    if(input_value[i]!=''):\n",
    "        count=count+1;\n",
    "print(\"Total nmber of characters in a string :\"+str(count));"
   ]
  },
  {
   "cell_type": "code",
   "execution_count": 6,
   "id": "7a8eb3a4",
   "metadata": {},
   "outputs": [
    {
     "name": "stdout",
     "output_type": "stream",
     "text": [
      "Enter any number of your choice : 9\n",
      "Enter another number of your choice : 8\n",
      "The product of 9 and 8 is 72\n"
     ]
    }
   ],
   "source": [
    "input1=int(input(\"Enter any number of your choice : \"))\n",
    "input2=int(input(\"Enter another number of your choice : \"))\n",
    "x=input1*input2\n",
    "a=str(x)\n",
    "b=str(input1)\n",
    "c=str(input2)\n",
    "print(\"The product of \"+ b + \" and \" + c + \" is \" + a)"
   ]
  },
  {
   "cell_type": "code",
   "execution_count": 7,
   "id": "f240386b",
   "metadata": {},
   "outputs": [
    {
     "name": "stdout",
     "output_type": "stream",
     "text": [
      "0.2 kg is the weight of the newt.\n"
     ]
    }
   ],
   "source": [
    "number=0.2\n",
    "weight=float(number)\n",
    "a=str(weight)\n",
    "animal=\"newt\"\n",
    "print(a + \" kg is the weight of the \" + animal+ \".\")"
   ]
  },
  {
   "cell_type": "code",
   "execution_count": 8,
   "id": "0c99a47a",
   "metadata": {},
   "outputs": [],
   "source": [
    "txt1=\"{weight} kg is the weight of the {animal}\".format(weight=0.2,animal=\"newt\")"
   ]
  },
  {
   "cell_type": "code",
   "execution_count": 9,
   "id": "ff7eebf0",
   "metadata": {},
   "outputs": [
    {
     "name": "stdout",
     "output_type": "stream",
     "text": [
      "0.2 kg is the weight of the newt\n"
     ]
    }
   ],
   "source": [
    "print(txt1)"
   ]
  },
  {
   "cell_type": "code",
   "execution_count": 10,
   "id": "9d4522a1",
   "metadata": {},
   "outputs": [
    {
     "name": "stdout",
     "output_type": "stream",
     "text": [
      "[1, 2, 3, 4, 5, 6, 7]\n"
     ]
    }
   ],
   "source": [
    "my_list=[1,2,3,4,5]\n",
    "my_list.extend([6,7])\n",
    "print(my_list)"
   ]
  },
  {
   "cell_type": "code",
   "execution_count": 11,
   "id": "cd2ae6b4",
   "metadata": {},
   "outputs": [
    {
     "name": "stdout",
     "output_type": "stream",
     "text": [
      "0.2 kg is the weight of the newt\n"
     ]
    }
   ],
   "source": [
    "print(f\"{number} kg is the weight of the {animal}\")"
   ]
  },
  {
   "cell_type": "code",
   "execution_count": null,
   "id": "25a454c9",
   "metadata": {},
   "outputs": [],
   "source": []
  }
 ],
 "metadata": {
  "kernelspec": {
   "display_name": "Python 3 (ipykernel)",
   "language": "python",
   "name": "python3"
  },
  "language_info": {
   "codemirror_mode": {
    "name": "ipython",
    "version": 3
   },
   "file_extension": ".py",
   "mimetype": "text/x-python",
   "name": "python",
   "nbconvert_exporter": "python",
   "pygments_lexer": "ipython3",
   "version": "3.11.5"
  }
 },
 "nbformat": 4,
 "nbformat_minor": 5
}
